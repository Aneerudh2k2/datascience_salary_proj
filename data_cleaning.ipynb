{
 "cells": [
  {
   "cell_type": "code",
   "execution_count": 2,
   "metadata": {},
   "outputs": [],
   "source": [
    "import pandas as pd\n",
    "import numpy as np"
   ]
  },
  {
   "cell_type": "code",
   "execution_count": 3,
   "metadata": {},
   "outputs": [],
   "source": [
    "df = pd.read_csv(\"glassdoor_jobs.csv\")"
   ]
  },
  {
   "attachments": {},
   "cell_type": "markdown",
   "metadata": {},
   "source": [
    "### Salary Estimate Cleanup/parsing"
   ]
  },
  {
   "cell_type": "code",
   "execution_count": 4,
   "metadata": {},
   "outputs": [],
   "source": [
    "df[\"Hourly\"] = df[\"Salary Estimate\"].apply(lambda x: 1 if  'per hour' in x.lower() else 0)\n",
    "df[\"Employer Provided\"] = df[\"Salary Estimate\"].apply(lambda x: 1 if 'employer provided salary:' in x.lower()  else 0)"
   ]
  },
  {
   "cell_type": "code",
   "execution_count": 5,
   "metadata": {},
   "outputs": [],
   "source": [
    "df = df[df[\"Salary Estimate\"] != '-1']\n",
    "salary = df[\"Salary Estimate\"].apply(lambda x: x.split('(')[0])\n",
    "minus_kdollar = salary.apply(lambda x: x.replace('K','').replace('$',''))\n",
    "min_hr = minus_kdollar.apply(lambda x: x.lower().replace('per hour', '').replace('employer provided salary:', ''))"
   ]
  },
  {
   "cell_type": "code",
   "execution_count": 6,
   "metadata": {},
   "outputs": [],
   "source": [
    "# Getting min and max Salary 12-43 => 12(min), 34(max)\n",
    "df[\"min_salary\"] = min_hr.apply(lambda x: int(x.split(\"-\")[0]))\n",
    "df[\"max_salary\"] = min_hr.apply(lambda x: int(x.split(\"-\")[1]))\n",
    "df[\"avg_salary\"] = (df.max_salary+df.min_salary)/2"
   ]
  },
  {
   "attachments": {},
   "cell_type": "markdown",
   "metadata": {},
   "source": [
    "### Company name text only"
   ]
  },
  {
   "cell_type": "code",
   "execution_count": 11,
   "metadata": {},
   "outputs": [],
   "source": [
    "df[\"Company Text\"] = df.apply(lambda x: x[\"Company Name\"] if x[\"Rating\"] < 0 else x[\"Company Name\"][:-3], axis=1)\n",
    "# df.head(20)"
   ]
  },
  {
   "attachments": {},
   "cell_type": "markdown",
   "metadata": {},
   "source": [
    "### State Field Cleaning"
   ]
  },
  {
   "cell_type": "code",
   "execution_count": null,
   "metadata": {},
   "outputs": [],
   "source": []
  }
 ],
 "metadata": {
  "kernelspec": {
   "display_name": "base",
   "language": "python",
   "name": "python3"
  },
  "language_info": {
   "codemirror_mode": {
    "name": "ipython",
    "version": 3
   },
   "file_extension": ".py",
   "mimetype": "text/x-python",
   "name": "python",
   "nbconvert_exporter": "python",
   "pygments_lexer": "ipython3",
   "version": "3.7.4"
  },
  "orig_nbformat": 4
 },
 "nbformat": 4,
 "nbformat_minor": 2
}
